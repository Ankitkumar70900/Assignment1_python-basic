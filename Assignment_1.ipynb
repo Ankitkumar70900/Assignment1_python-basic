{
 "cells": [
  {
   "cell_type": "raw",
   "id": "d392beb5-6943-4e2b-8502-f098ab490dcb",
   "metadata": {},
   "source": [
    "Python Basics Questions"
   ]
  },
  {
   "cell_type": "raw",
   "id": "7c041031-e4a0-4926-8d31-14a6ac4747f6",
   "metadata": {},
   "source": [
    "1. What is Python, and why is it popular?\n",
    "Ans Python is a high-level, interpreted programming language known for its simple syntax and readability. It is popular because it's easy to learn, supports multiple programming paradigms, has a vast standard library, and is widely used in fields like web development, data science, AI, automation, and more."
   ]
  },
  {
   "cell_type": "raw",
   "id": "5f1926a9-e24d-47dc-959d-b7db7bfed50b",
   "metadata": {},
   "source": [
    "2. What is an interpreter in Python?\n",
    "An interpreter is a program that reads and executes Python code line by line. Python’s interpreter translates source code into machine code at runtime."
   ]
  },
  {
   "cell_type": "raw",
   "id": "782914f1-e251-442e-b669-9f8fb090ec90",
   "metadata": {},
   "source": [
    "3. What are pre-defined keywords in Python?\n",
    "Pre-defined keywords are reserved words that have special meaning in Python, like if, else, for, while, True, False, etc."
   ]
  },
  {
   "cell_type": "raw",
   "id": "aaa7cb77-aaa0-4a67-bf2e-9d144b3dccdf",
   "metadata": {},
   "source": [
    "4. Can keywords be used as variable names?\n",
    "No, keywords cannot be used as variable names. Doing so will result in a syntax error."
   ]
  },
  {
   "cell_type": "raw",
   "id": "eb38ee9e-e939-4981-946c-3f429442b7bc",
   "metadata": {},
   "source": [
    "5. What is mutability in Python?\n",
    "Mutability refers to whether an object can be changed after creation. Mutable objects (like lists) can be modified, while immutable objects (like tuples, strings) cannot."
   ]
  },
  {
   "cell_type": "raw",
   "id": "fd8fab7d-a51e-4fcd-9cb8-f1c3125c04f7",
   "metadata": {},
   "source": [
    "6. Why are lists mutable, but tuples are immutable?\n",
    "Lists are designed for collections that may change, so Python allows modifications. Tuples are meant to be fixed collections, often used as dictionary keys or constants, so they are immutable for safety and performance."
   ]
  },
  {
   "cell_type": "raw",
   "id": "9c98dcb1-574e-4587-8992-ff60fd2a0137",
   "metadata": {},
   "source": [
    "7. What is the difference between == and is operators?\n",
    "\n",
    "== checks if the values of two variables are equal.\n",
    "\n",
    "is checks if the two variables refer to the same object in memory."
   ]
  },
  {
   "cell_type": "raw",
   "id": "d5ddedab-2559-41bd-a0ed-6d074f7814d3",
   "metadata": {},
   "source": [
    "8. What are logical operators in Python?\n",
    "\n",
    "and: Returns True if both conditions are True.\n",
    "\n",
    "or: Returns True if at least one condition is True.\n",
    "\n",
    "not: Reverses the boolean value."
   ]
  },
  {
   "cell_type": "raw",
   "id": "2087faa3-0a08-4f0e-8e66-db7fc835737a",
   "metadata": {},
   "source": [
    "9. What is type casting in Python?\n",
    "Type casting is converting a variable from one data type to another, like from string to integer using int()."
   ]
  },
  {
   "cell_type": "raw",
   "id": "60c13bd1-af38-4520-852e-76e3213cae02",
   "metadata": {},
   "source": [
    "10. What is the difference between implicit and explicit type casting?\n",
    "\n",
    "Implicit: Done automatically by Python.\n",
    "Example: x = 10 + 5.5 → x becomes float.\n",
    "\n",
    "Explicit: Done manually by the programmer using functions like int(), float(), str()."
   ]
  },
  {
   "cell_type": "raw",
   "id": "a22e4866-b180-460a-af3b-157fe5b5218e",
   "metadata": {},
   "source": [
    "11. What is the purpose of conditional statements?\n",
    "They allow the program to make decisions and execute certain blocks of code based on conditions (like if, else, elif)."
   ]
  },
  {
   "cell_type": "raw",
   "id": "0d910907-c357-4f5b-bb91-66dd46667761",
   "metadata": {},
   "source": [
    "12. How does the elif statement work?\n",
    "elif (else if) checks another condition if the previous if condition is false. It prevents multiple if statements."
   ]
  },
  {
   "cell_type": "raw",
   "id": "3884e232-555e-4eef-aea1-6b59267261ae",
   "metadata": {},
   "source": [
    "13. What is the difference between for and while loops \n",
    "\n",
    "for is used when you know the number of iterations.\n",
    "\n",
    "while is used when the number of iterations is unknown and depends on a condition."
   ]
  },
  {
   "cell_type": "raw",
   "id": "424a14a4-3526-4e82-9d10-f44df82bf2fb",
   "metadata": {},
   "source": [
    "14. Describe a scenario where a while loop is more suitable than  a for loop.\n",
    "Scenario where a while loop is better than a for loop:\n",
    "Example: Taking input until the user types \"exit\". You don’t know how many times the loop will run, so a while loop is better."
   ]
  },
  {
   "cell_type": "raw",
   "id": "3cb6708f-e998-4c98-aef2-bb06c6549e16",
   "metadata": {},
   "source": [
    "PRACTICAL QUESTION"
   ]
  },
  {
   "cell_type": "code",
   "execution_count": 22,
   "id": "0141f0c8-053e-4548-8a11-85fb1fb16a53",
   "metadata": {},
   "outputs": [
    {
     "name": "stdout",
     "output_type": "stream",
     "text": [
      "Hello, World!\n"
     ]
    }
   ],
   "source": [
    "#1 Write a Python program to print \"Hello, World!\"\n",
    "print(\"Hello, World!\")\n"
   ]
  },
  {
   "cell_type": "code",
   "execution_count": 23,
   "id": "5d8e4736-50dd-4fbe-9b5f-d7f41a76a91c",
   "metadata": {},
   "outputs": [
    {
     "name": "stdout",
     "output_type": "stream",
     "text": [
      "Name: Ankit\n",
      "Age: 22\n"
     ]
    }
   ],
   "source": [
    "#2 Write a Python program that displays your name and age.\n",
    "name = \"Ankit\"\n",
    "age = 22\n",
    "print(\"Name:\", name)\n",
    "print(\"Age:\", age)"
   ]
  },
  {
   "cell_type": "code",
   "execution_count": 24,
   "id": "99d5b8f7-c288-4dd9-8504-b9e34dfd1990",
   "metadata": {},
   "outputs": [
    {
     "name": "stdout",
     "output_type": "stream",
     "text": [
      "['False', 'None', 'True', 'and', 'as', 'assert', 'async', 'await', 'break', 'class', 'continue', 'def', 'del', 'elif', 'else', 'except', 'finally', 'for', 'from', 'global', 'if', 'import', 'in', 'is', 'lambda', 'nonlocal', 'not', 'or', 'pass', 'raise', 'return', 'try', 'while', 'with', 'yield']\n"
     ]
    }
   ],
   "source": [
    "#3 Write code to print all the pre-defined keywords in Python using the keyword library.\n",
    "import keyword\n",
    "print(keyword.kwlist)"
   ]
  },
  {
   "cell_type": "code",
   "execution_count": 19,
   "id": "50481fc5-c75f-4a47-934c-197f0785ff2b",
   "metadata": {},
   "outputs": [
    {
     "name": "stdin",
     "output_type": "stream",
     "text": [
      "Enter a word:  s\n"
     ]
    },
    {
     "name": "stdout",
     "output_type": "stream",
     "text": [
      "Keyword? False\n"
     ]
    }
   ],
   "source": [
    "# Write a program that checks if a given word is a Python keyword.\n",
    "import keyword\n",
    "word = input(\"Enter a word: \")\n",
    "print(\"Keyword?\" , keyword.iskeyword(word))"
   ]
  },
  {
   "cell_type": "code",
   "execution_count": 20,
   "id": "d63f916e-65c7-4b8f-afc5-9e2dc56d4247",
   "metadata": {},
   "outputs": [
    {
     "name": "stdout",
     "output_type": "stream",
     "text": [
      "Inside function - List: [1, 2, 3, 100]\n",
      "Inside function - Number: 15\n",
      "Outside function - List: [1, 2, 3, 100]\n",
      "Outside function - Number: 5\n"
     ]
    }
   ],
   "source": [
    "#5. Create a list and tuple in Python, and demonstrate how attempting to change an #element works differently\n",
    "#for each.  \n",
    "def test_mutability(a_list, a_number):\n",
    "    a_list.append(100)\n",
    "    a_number += 10\n",
    "    print(\"Inside function - List:\", a_list)\n",
    "    print(\"Inside function - Number:\", a_number)\n",
    "\n",
    "my_list = [1, 2, 3]\n",
    "my_num = 5\n",
    "test_mutability(my_list, my_num)\n",
    "print(\"Outside function - List:\", my_list)\n",
    "print(\"Outside function - Number:\", my_num)\n"
   ]
  },
  {
   "cell_type": "code",
   "execution_count": 12,
   "id": "ff8e69b9-37e6-41b6-ac69-3ef3e3b81413",
   "metadata": {},
   "outputs": [
    {
     "name": "stdin",
     "output_type": "stream",
     "text": [
      "Enter first number:  4\n",
      "Enter second number:  5\n"
     ]
    },
    {
     "name": "stdout",
     "output_type": "stream",
     "text": [
      "Sum: 9\n",
      "Difference: -1\n",
      "Product: 20\n",
      "Quotient: 0.8\n"
     ]
    }
   ],
   "source": [
    "#6. Write a function to demonstrate the behavior of mutable and immutable arguments\n",
    "a = int(input(\"Enter first number: \"))\n",
    "b = int(input(\"Enter second number: \"))\n",
    "print(\"Sum:\", a + b)\n",
    "print(\"Difference:\", a - b)\n",
    "print(\"Product:\", a * b)\n",
    "print(\"Quotient:\", a / b)"
   ]
  },
  {
   "cell_type": "code",
   "execution_count": 16,
   "id": "8b1765f1-fbca-4db0-a007-b67d3029e2da",
   "metadata": {},
   "outputs": [
    {
     "name": "stdin",
     "output_type": "stream",
     "text": [
      "Enter a number:  45\n"
     ]
    },
    {
     "name": "stdout",
     "output_type": "stream",
     "text": [
      "True\n",
      "False\n",
      "True\n"
     ]
    }
   ],
   "source": [
    "#7. Write a program that performs basic arithmetic operations on two user-input numbers.\n",
    "x = int(input(\"Enter a number: \"))\n",
    "print(x > 0 and x < 100)\n",
    "print(x < 0 or x == 0)\n",
    "print(not(x == 10))"
   ]
  },
  {
   "cell_type": "code",
   "execution_count": 17,
   "id": "afcefce9-5f04-432d-a44a-8efd36d5496f",
   "metadata": {},
   "outputs": [
    {
     "name": "stdout",
     "output_type": "stream",
     "text": [
      "Cannot modify a tuple\n"
     ]
    }
   ],
   "source": [
    "#8 Write a program to demonstrate the use of logical operators.\n",
    "my_list = [1, 2, 3]\n",
    "my_tuple = (1, 2, 3)\n",
    "\n",
    "my_list[0] = 100  # Works\n",
    "\n",
    "try:\n",
    "    my_tuple[0] = 100  # Fails\n",
    "except TypeError:\n",
    "    print(\"Cannot modify a tuple\")"
   ]
  },
  {
   "cell_type": "code",
   "execution_count": 30,
   "id": "7e81729c-0c80-40fb-9d58-436cbba8ffda",
   "metadata": {},
   "outputs": [
    {
     "name": "stdin",
     "output_type": "stream",
     "text": [
      "Enter a number:  1\n"
     ]
    },
    {
     "name": "stdout",
     "output_type": "stream",
     "text": [
      "Integer: 1\n",
      "Float: 1.0\n",
      "Boolean: True\n"
     ]
    }
   ],
   "source": [
    "#9. Write a Python program to convert user input from string to integer, float, and boolean types.\n",
    "s = input(\"Enter a number: \")\n",
    "i = int(s)\n",
    "f = float(s)\n",
    "b = bool(s)\n",
    "print(\"Integer:\", i)\n",
    "print(\"Float:\", f)\n",
    "print(\"Boolean:\", b)"
   ]
  },
  {
   "cell_type": "code",
   "execution_count": 31,
   "id": "de608d0f-c002-40ca-a209-756b5fc0f060",
   "metadata": {},
   "outputs": [
    {
     "name": "stdout",
     "output_type": "stream",
     "text": [
      "[1, 2, 3]\n"
     ]
    }
   ],
   "source": [
    "#10. Write code to demonstrate type casting with list elements.\n",
    "str_list = [\"1\", \"2\", \"3\"]\n",
    "int_list = list(map(int, str_list))\n",
    "print(int_list)"
   ]
  },
  {
   "cell_type": "code",
   "execution_count": 32,
   "id": "b1dd9613-34c3-4d7a-a59a-d2f9ea183cb5",
   "metadata": {},
   "outputs": [
    {
     "name": "stdin",
     "output_type": "stream",
     "text": [
      "Enter a number:  5\n"
     ]
    },
    {
     "name": "stdout",
     "output_type": "stream",
     "text": [
      "Positive\n"
     ]
    }
   ],
   "source": [
    "#11. Write a program that checks if a number is positive, negative, or zero.\n",
    "n = int(input(\"Enter a number: \"))\n",
    "if n > 0:\n",
    "    print(\"Positive\")\n",
    "elif n < 0:\n",
    "    print(\"Negative\")\n",
    "else:\n",
    "    print(\"Zero\")"
   ]
  },
  {
   "cell_type": "code",
   "execution_count": 33,
   "id": "6c9123b8-da11-4554-882d-51b1b63e1560",
   "metadata": {},
   "outputs": [
    {
     "name": "stdout",
     "output_type": "stream",
     "text": [
      "1\n",
      "2\n",
      "3\n",
      "4\n",
      "5\n",
      "6\n",
      "7\n",
      "8\n",
      "9\n",
      "10\n"
     ]
    }
   ],
   "source": [
    "#12. Write a for loop to print numbers from 1 to 10.\n",
    "for i in range(1, 11):\n",
    "    print(i)"
   ]
  },
  {
   "cell_type": "code",
   "execution_count": 34,
   "id": "f91abc71-1aa0-44b0-96dc-8658a4bc6ae6",
   "metadata": {},
   "outputs": [
    {
     "name": "stdout",
     "output_type": "stream",
     "text": [
      "Sum of even numbers: 650\n"
     ]
    }
   ],
   "source": [
    "#13. Write a Python program to find the sum of all even numbers between 1 and 50.\n",
    "total = 0\n",
    "for i in range(1, 51):\n",
    "    if i % 2 == 0:\n",
    "        total += i\n",
    "print(\"Sum of even numbers:\", total)"
   ]
  },
  {
   "cell_type": "code",
   "execution_count": 36,
   "id": "fdf43a4c-6476-4d48-b6f7-a6ed5d47ad5d",
   "metadata": {},
   "outputs": [
    {
     "name": "stdin",
     "output_type": "stream",
     "text": [
      "Enter a string:  48\n"
     ]
    },
    {
     "name": "stdout",
     "output_type": "stream",
     "text": [
      "Reversed: 84\n"
     ]
    }
   ],
   "source": [
    "#14. Write a program to reverse a string using a while loop.\n",
    "s = input(\"Enter a string: \")\n",
    "i = len(s) - 1\n",
    "rev = ''\n",
    "while i >= 0:\n",
    "    rev += s[i]\n",
    "    i -= 1\n",
    "print(\"Reversed:\", rev)\n"
   ]
  },
  {
   "cell_type": "code",
   "execution_count": 37,
   "id": "d3908b95-1ac4-4356-a328-d49c360b658a",
   "metadata": {},
   "outputs": [
    {
     "name": "stdin",
     "output_type": "stream",
     "text": [
      "Enter a number:  41\n"
     ]
    },
    {
     "name": "stdout",
     "output_type": "stream",
     "text": [
      "Factorial: 33452526613163807108170062053440751665152000000000\n"
     ]
    }
   ],
   "source": [
    "#15. Write a Python program to calculate the factorial of a number provided by the user using a while loop.\n",
    "n = int(input(\"Enter a number: \"))\n",
    "fact = 1\n",
    "while n > 0:\n",
    "    fact *= n\n",
    "    n -= 1\n",
    "print(\"Factorial:\", fact)\n"
   ]
  },
  {
   "cell_type": "code",
   "execution_count": null,
   "id": "78a985ab-9695-4729-97b9-100a2efa8024",
   "metadata": {},
   "outputs": [],
   "source": []
  }
 ],
 "metadata": {
  "kernelspec": {
   "display_name": "Python 3 (ipykernel)",
   "language": "python",
   "name": "python3"
  },
  "language_info": {
   "codemirror_mode": {
    "name": "ipython",
    "version": 3
   },
   "file_extension": ".py",
   "mimetype": "text/x-python",
   "name": "python",
   "nbconvert_exporter": "python",
   "pygments_lexer": "ipython3",
   "version": "3.13.3"
  }
 },
 "nbformat": 4,
 "nbformat_minor": 5
}
